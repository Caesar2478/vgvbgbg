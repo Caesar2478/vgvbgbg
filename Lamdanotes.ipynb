{
  "nbformat": 4,
  "nbformat_minor": 0,
  "metadata": {
    "colab": {
      "provenance": [],
      "authorship_tag": "ABX9TyPpDH+fj1P+PvGFLHKl7MNn",
      "include_colab_link": true
    },
    "kernelspec": {
      "name": "python3",
      "display_name": "Python 3"
    },
    "language_info": {
      "name": "python"
    }
  },
  "cells": [
    {
      "cell_type": "markdown",
      "metadata": {
        "id": "view-in-github",
        "colab_type": "text"
      },
      "source": [
        "<a href=\"https://colab.research.google.com/github/Caesar2478/vgvbgbg/blob/main/Lamdanotes.ipynb\" target=\"_parent\"><img src=\"https://colab.research.google.com/assets/colab-badge.svg\" alt=\"Open In Colab\"/></a>"
      ]
    },
    {
      "cell_type": "code",
      "execution_count": null,
      "metadata": {
        "id": "9VarPzewVVm4"
      },
      "outputs": [],
      "source": []
    },
    {
      "cell_type": "markdown",
      "source": [
        "This is a Lambda Function"
      ],
      "metadata": {
        "id": "0U36yPoUc6-b"
      }
    },
    {
      "cell_type": "code",
      "source": [
        "lambda y: y*5"
      ],
      "metadata": {
        "id": "c-RbGjVeYyux"
      },
      "execution_count": null,
      "outputs": []
    }
  ]
}